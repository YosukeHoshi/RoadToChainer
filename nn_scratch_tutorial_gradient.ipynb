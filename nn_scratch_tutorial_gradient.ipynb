{
 "cells": [
  {
   "cell_type": "markdown",
   "metadata": {},
   "source": [
    "# ニューラルネットワークの訓練"
   ]
  },
  {
   "cell_type": "markdown",
   "metadata": {},
   "source": [
    "## 目的関数(損失関数)\n",
    "分類問題によく使われる交差エントロピー誤差について触れる"
   ]
  },
  {
   "cell_type": "code",
   "execution_count": 1,
   "metadata": {},
   "outputs": [
    {
     "name": "stdout",
     "output_type": "stream",
     "text": [
      "cross_entropy_error : \n",
      "0.510825457099338\n",
      "========================================\n",
      "cross_entropy_error : \n",
      "1.6094374124342252\n"
     ]
    }
   ],
   "source": [
    "import numpy as np\n",
    "\n",
    "def cross_entropy_error(y, t):\n",
    "    print(\"cross_entropy_error : \")\n",
    "    delta = 1e-7\n",
    "    return -np.sum(t * np.log(y + delta))\n",
    "\n",
    "T = np.array([0, 1, 0, 0, 0])\n",
    "\n",
    "y1 = np.array([0.1, 0.6, 0.2, 0.0, 0.0])\n",
    "y2 = np.array([0.1, 0.2, 0.05, 0.0, 0.0])\n",
    "\n",
    "print(cross_entropy_error(y1, T))\n",
    "print(\"=\" * 40)\n",
    "print(cross_entropy_error(y2, T))"
   ]
  },
  {
   "cell_type": "markdown",
   "metadata": {},
   "source": [
    "正解となるラベルの出力が小さいと交差エントロピー誤差が大きくなることがわかる"
   ]
  },
  {
   "cell_type": "markdown",
   "metadata": {},
   "source": [
    "## 目的関数の最小化\n",
    "目的関数(損失関数)の値を最小にするようなパラメータの値を求めることで、ニューラルネットワークを訓練する.\n",
    "\n",
    "ここでは勾配降下法に触れる."
   ]
  },
  {
   "cell_type": "code",
   "execution_count": 3,
   "metadata": {},
   "outputs": [],
   "source": [
    "\"\"\"\n",
    "numpyを使って勾配の計算をしてみる.\n",
    "バイアスは全て初期化されているとする.\n",
    "\"\"\"\n",
    "# 入力\n",
    "x = np.array([2, 3, 1])\n",
    "\n",
    "# 正解\n",
    "t = np.array([20])"
   ]
  },
  {
   "cell_type": "code",
   "execution_count": 4,
   "metadata": {},
   "outputs": [],
   "source": [
    "# パラメータの定義\n",
    "\n",
    "# 1層目と 2層目の間の線形変換のパラメータ\n",
    "# 3次元ベクトルを2次元ベクトルに変換\n",
    "w1 = np.array([[3, 1, 2], [-2, -3, -1]])\n",
    "# 二次元バイアス\n",
    "b1 = np.array([0, 0])\n",
    "\n",
    "# 2層目と 3層目の間の線形変換のパラメータ\n",
    "# 2次元ベクトルを1次元ベクトルに変換\n",
    "w2 = np.array([[3, 2]])\n",
    "# 一次元バイアス\n",
    "b2 = np.array([0])"
   ]
  },
  {
   "cell_type": "code",
   "execution_count": 5,
   "metadata": {},
   "outputs": [
    {
     "name": "stdout",
     "output_type": "stream",
     "text": [
      "[33]\n"
     ]
    }
   ],
   "source": [
    "# 中間層の計算\n",
    "# 活性化関数にReLuを用いる\n",
    "u1 = w1.dot(x) + b1\n",
    "h1 = np.maximum(0, u1)\n",
    "\n",
    "# 出力の計算\n",
    "y = w2.dot(h1) + b2\n",
    "\n",
    "print(y)"
   ]
  },
  {
   "cell_type": "code",
   "execution_count": 6,
   "metadata": {},
   "outputs": [],
   "source": [
    "# dL/dw2 = dL/dy * dy/dw2 を求めたい\n",
    "\n",
    "# dL / dy\n",
    "dLdy = -2 * (t - y)\n",
    "\n",
    "# dy / dw_2\n",
    "dydw2 = h1"
   ]
  },
  {
   "cell_type": "code",
   "execution_count": 7,
   "metadata": {},
   "outputs": [
    {
     "name": "stdout",
     "output_type": "stream",
     "text": [
      "[286   0]\n"
     ]
    }
   ],
   "source": [
    "# dL / dw_2: 求めたい勾配\n",
    "dLdw2 = dLdy * dydw2\n",
    "\n",
    "print(dLdw2)"
   ]
  },
  {
   "cell_type": "code",
   "execution_count": 8,
   "metadata": {},
   "outputs": [
    {
     "name": "stdout",
     "output_type": "stream",
     "text": [
      "[[156 234  78]\n",
      " [  0   0   0]]\n"
     ]
    }
   ],
   "source": [
    "# d y / d h1\n",
    "dydh1 = w2\n",
    "\n",
    "# d h1 / d u1\n",
    "dh1du1 = np.where( h1 > 0, 1, 0)\n",
    "\n",
    "# d u_1 / d w1\n",
    "du1dw1 = x\n",
    "\n",
    "# 上から du1 / dw1 の直前までを一旦計算\n",
    "dLdu1 = dLdy * dydh1 * dh1du1\n",
    "\n",
    "# du1dw1は (3,) というshapeなので、g_u1w1[None]として(1, 3)に変形\n",
    "du1dw1 = du1dw1[None]\n",
    "\n",
    "# dL / dw_1: 求めたい勾配\n",
    "dLdw1 = dLdu1.T.dot(du1dw1)\n",
    "\n",
    "print(dLdw1)"
   ]
  },
  {
   "cell_type": "markdown",
   "metadata": {},
   "source": [
    "ここまでをchainerで実装すると以下のようになる."
   ]
  },
  {
   "cell_type": "code",
   "execution_count": 9,
   "metadata": {},
   "outputs": [
    {
     "name": "stderr",
     "output_type": "stream",
     "text": [
      "/Users/yosuke/.pyenv/versions/anaconda3-5.0.1/lib/python3.6/site-packages/h5py/__init__.py:36: FutureWarning: Conversion of the second argument of issubdtype from `float` to `np.floating` is deprecated. In future, it will be treated as `np.float64 == np.dtype(float).type`.\n",
      "  from ._conv import register_converters as _register_converters\n"
     ]
    },
    {
     "name": "stdout",
     "output_type": "stream",
     "text": [
      "variable([[33.]])\n",
      "[variable([[286.,   0.]])]\n",
      "[variable([[156., 234.,  78.],\n",
      "          [  0.,   0.,   0.]])]\n"
     ]
    }
   ],
   "source": [
    "import chainer\n",
    "import chainer.functions as F\n",
    "import chainer.links as L\n",
    "\n",
    "# 1-2層間のパラメータ\n",
    "w1 = np.array([[3, 1, 2], [-2, -3, -1]], dtype=np.float32)\n",
    "b1 = np.array([0, 0], dtype=np.float32)\n",
    "\n",
    "l1 = L.Linear(2, initialW=w1, initial_bias=b1)\n",
    "\n",
    "# 2-3層間のパラメータ\n",
    "w2 = np.array([[3, 2]], dtype=np.float32)\n",
    "b2 = np.array([0], dtype=np.float32)\n",
    "\n",
    "l2 = L.Linear(1, initialW=w2, initial_bias=b2)\n",
    "\n",
    "# 入力\n",
    "x = np.array([[2, 3, 1]], dtype=np.float32)\n",
    "\n",
    "# 出力\n",
    "y = l2(F.relu(l1(x)))\n",
    "print(y)  # => should be [2.99995156]\n",
    "\n",
    "# 正解\n",
    "t = np.array([[20.]], dtype=np.float32)\n",
    "\n",
    "# ロス\n",
    "loss = F.mean_squared_error(y, t)\n",
    "\n",
    "# dLdw_2\n",
    "print(chainer.grad([loss], [l2.W]))  # => should be [-3.39995290e+01 -2.82720335e-05]\n",
    "\n",
    "# dLdw_1\n",
    "print(chainer.grad([loss], [l1.W]))  # => should be [[-3.40704286e-03 -5.11056429e-03 -1.70352143e-03]\n",
    "                                                  #                      [-1.13088040e-04 -1.69632060e-04 -5.65440200e-05]]"
   ]
  },
  {
   "cell_type": "code",
   "execution_count": null,
   "metadata": {},
   "outputs": [],
   "source": []
  }
 ],
 "metadata": {
  "kernelspec": {
   "display_name": "Python 3",
   "language": "python",
   "name": "python3"
  },
  "language_info": {
   "codemirror_mode": {
    "name": "ipython",
    "version": 3
   },
   "file_extension": ".py",
   "mimetype": "text/x-python",
   "name": "python",
   "nbconvert_exporter": "python",
   "pygments_lexer": "ipython3",
   "version": "3.6.3"
  }
 },
 "nbformat": 4,
 "nbformat_minor": 2
}
